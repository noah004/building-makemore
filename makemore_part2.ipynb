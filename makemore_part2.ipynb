{
 "cells": [
  {
   "cell_type": "code",
   "execution_count": 548,
   "metadata": {},
   "outputs": [],
   "source": [
    "import torch\n",
    "import torch.nn.functional as F\n",
    "import matplotlib.pyplot as plt\n",
    "import random\n",
    "%matplotlib inline"
   ]
  },
  {
   "cell_type": "markdown",
   "metadata": {},
   "source": [
    "### Getting data information:"
   ]
  },
  {
   "cell_type": "code",
   "execution_count": 549,
   "metadata": {},
   "outputs": [
    {
     "name": "stdout",
     "output_type": "stream",
     "text": [
      "First 8 words in file:\n",
      " ['kamilia', 'karma', 'germaine', 'syah', 'alaylah', 'rashaan', 'yovanny', 'kandice']\n",
      "\n",
      "Total words in file:  32033\n"
     ]
    }
   ],
   "source": [
    "''' Get information about the dataset '''\n",
    "words = open('names.txt', 'r').read().splitlines()\n",
    "random.shuffle(words)\n",
    "print('First 8 words in file:\\n', words[:8])\n",
    "print('\\nTotal words in file: ', len(words))"
   ]
  },
  {
   "cell_type": "markdown",
   "metadata": {},
   "source": [
    "### Creating useful mappings:"
   ]
  },
  {
   "cell_type": "code",
   "execution_count": 550,
   "metadata": {},
   "outputs": [
    {
     "name": "stdout",
     "output_type": "stream",
     "text": [
      "\n",
      "Mapping string to integer:  {'a': 1, 'b': 2, 'c': 3, 'd': 4, 'e': 5, 'f': 6, 'g': 7, 'h': 8, 'i': 9, 'j': 10, 'k': 11, 'l': 12, 'm': 13, 'n': 14, 'o': 15, 'p': 16, 'q': 17, 'r': 18, 's': 19, 't': 20, 'u': 21, 'v': 22, 'w': 23, 'x': 24, 'y': 25, 'z': 26, '.': 0}\n",
      "Mapping integer to string:  {1: 'a', 2: 'b', 3: 'c', 4: 'd', 5: 'e', 6: 'f', 7: 'g', 8: 'h', 9: 'i', 10: 'j', 11: 'k', 12: 'l', 13: 'm', 14: 'n', 15: 'o', 16: 'p', 17: 'q', 18: 'r', 19: 's', 20: 't', 21: 'u', 22: 'v', 23: 'w', 24: 'x', 25: 'y', 26: 'z', 0: '.'}\n"
     ]
    }
   ],
   "source": [
    "\n",
    "''' Create mappings between characters and integers '''\n",
    "chars = sorted(list(set(''.join(words))))\n",
    "stoi = {s:i+1 for i,s in enumerate(chars)}\n",
    "stoi['.'] = 0\n",
    "itos = {i:s for s,i in stoi.items()}\n",
    "\n",
    "print('\\nMapping string to integer: ', stoi)\n",
    "print('Mapping integer to string: ', itos)"
   ]
  },
  {
   "cell_type": "markdown",
   "metadata": {},
   "source": [
    "### Building the dataset:"
   ]
  },
  {
   "cell_type": "code",
   "execution_count": 551,
   "metadata": {},
   "outputs": [],
   "source": [
    "''' Building the dataset '''\n",
    "# Takes in a list of names and an int which determines \n",
    "# how many previous chars are used for the prediction.\n",
    "# Returns the inputs (X) and labels (Y) of the dataset\n",
    "def build_dataset(words, block_size):\n",
    "    X, Y = [], []\n",
    "    for w in words:\n",
    "        #print(w)\n",
    "        context = [0] * block_size\n",
    "        for ch in w + '.':\n",
    "            ix = stoi[ch]\n",
    "            X.append(context)\n",
    "            Y.append(ix)\n",
    "            #print(''.join(itos[i] for i in context), '--->', itos[ix])\n",
    "            context = context[1:] + [ix] # crop and append\n",
    "\n",
    "    X = torch.tensor(X)\n",
    "    Y = torch.tensor(Y)\n",
    "    return X, Y"
   ]
  },
  {
   "cell_type": "markdown",
   "metadata": {},
   "source": [
    "### Defining model parameters:"
   ]
  },
  {
   "cell_type": "code",
   "execution_count": 558,
   "metadata": {},
   "outputs": [],
   "source": [
    "def build_model(block_size, features, neurons, verbose=1):\n",
    "    g = torch.Generator().manual_seed(2147483647) # for determistic results\n",
    "\n",
    "    ''' Look up table C '''\n",
    "    C = torch.randn((27, features), generator=g)\n",
    "\n",
    "    ''' Weights and biases '''\n",
    "    W1 = torch.randn((block_size * features, neurons), generator=g) * (5/3) / (block_size * features)**0.5\n",
    "    b1 = torch.randn(neurons, generator=g) * 0.01\n",
    "\n",
    "    W2 = torch.randn((neurons, 27), generator=g) * 0.01\n",
    "    b2 = torch.randn(27, generator=g) * 0\n",
    "\n",
    "    ''' Parameters '''\n",
    "    parameters = [C, W1, b1, W2, b2]\n",
    "\n",
    "    ''' Telling pytorch that all parameters require a gradient '''\n",
    "    for p in parameters:\n",
    "        p.requires_grad = True\n",
    "\n",
    "    if verbose > 0: print('Number of parameters:', sum(p.nelement() for p in parameters))\n",
    "\n",
    "    return parameters"
   ]
  },
  {
   "cell_type": "markdown",
   "metadata": {},
   "source": [
    "### Training model function:"
   ]
  },
  {
   "cell_type": "code",
   "execution_count": 574,
   "metadata": {},
   "outputs": [],
   "source": [
    "\n",
    "def train_model(params, inputs, labels, step_size=0.1, batch_size=50, epochs=100):\n",
    "\n",
    "    losses, passes = [], []\n",
    "    for i in range(epochs):\n",
    "        C, W1, b1, W2, b2 = params[0], params[1], params[2], params[3], params[4]\n",
    "        ''' Contructing a minibatch '''\n",
    "        ix = torch.randint(0, inputs.shape[0], (batch_size,), generator=g)\n",
    "\n",
    "        ''' Forward Pass: '''\n",
    "        # Embedding\n",
    "        emb = C[inputs[ix]]\n",
    "        #logits\n",
    "        h = torch.tanh(emb.view(-1, W1.shape[0]) @ W1 + b1)\n",
    "        logits = h @ W2 + b2\n",
    "        #Loss\n",
    "        loss = F.cross_entropy(logits, labels[ix])\n",
    "\n",
    "        ''' Backward Pass: '''\n",
    "        # Reinitialize gradients\n",
    "        for p in params:\n",
    "            p.grad = None\n",
    "        # Calculate the new gradients\n",
    "        loss.backward()\n",
    "        # Slightly adjust parameters against gradient direction\n",
    "        for p in params:\n",
    "            p.data -= step_size * p.grad\n",
    "\n",
    "        if i % 10000 == 0: print(i, '/', epochs, '---->', loss.item())\n",
    "                \n",
    "        losses.append(loss.item())\n",
    "        passes.append(i)\n",
    "\n",
    "    ''' Getting final lost by doing a final forward pass '''\n",
    "    # Embedding\n",
    "    emb = C[inputs[ix]]\n",
    "    #logits\n",
    "    h = torch.tanh(emb.view(-1, W1.shape[0]) @ W1 + b1)\n",
    "    logits = h @ W2 + b2\n",
    "    #Loss\n",
    "    loss = F.cross_entropy(logits, labels[ix])\n",
    "    losses.append(loss.item())\n",
    "    passes.append(passes[-1] + 1)\n",
    "    print(epochs, '/', epochs, '---->', loss.item())\n",
    "\n",
    "    ''' Plot the loss progess '''\n",
    "    plt.plot(passes, losses)\n",
    "\n",
    "    return params, losses, passes\n",
    "\n",
    "    "
   ]
  },
  {
   "cell_type": "markdown",
   "metadata": {},
   "source": [
    "### Creating the training and testing datasets:"
   ]
  },
  {
   "cell_type": "code",
   "execution_count": 594,
   "metadata": {},
   "outputs": [],
   "source": [
    "''' Creating the train and test datasets '''\n",
    "split = 0.9 # percentage of the words used to train the model\n",
    "block_size = 7 # amount of characters used for the prediction\n",
    "words_train = round(split * len(words))\n",
    "\n",
    "x_train, y_train = build_dataset(words[:words_train], block_size)\n",
    "x_test, y_test = build_dataset(words[words_train:], block_size)"
   ]
  },
  {
   "cell_type": "code",
   "execution_count": 595,
   "metadata": {},
   "outputs": [
    {
     "name": "stdout",
     "output_type": "stream",
     "text": [
      "Number of parameters: 19897\n",
      "0 / 400000 ----> 3.301945209503174\n",
      "10000 / 400000 ----> 2.6027326583862305\n",
      "20000 / 400000 ----> 2.012281894683838\n",
      "30000 / 400000 ----> 2.3746745586395264\n",
      "40000 / 400000 ----> 2.167807102203369\n",
      "50000 / 400000 ----> 2.0118424892425537\n",
      "60000 / 400000 ----> 1.9232910871505737\n",
      "70000 / 400000 ----> 2.4639787673950195\n",
      "80000 / 400000 ----> 1.5702052116394043\n",
      "90000 / 400000 ----> 2.133105754852295\n",
      "100000 / 400000 ----> 1.909003496170044\n",
      "110000 / 400000 ----> 2.238736152648926\n",
      "120000 / 400000 ----> 1.9561896324157715\n",
      "130000 / 400000 ----> 2.061342477798462\n",
      "140000 / 400000 ----> 2.158285617828369\n",
      "150000 / 400000 ----> 1.8245004415512085\n",
      "160000 / 400000 ----> 2.154759168624878\n",
      "170000 / 400000 ----> 2.202371120452881\n",
      "180000 / 400000 ----> 1.7675176858901978\n",
      "190000 / 400000 ----> 2.188809394836426\n",
      "200000 / 400000 ----> 1.8443384170532227\n",
      "210000 / 400000 ----> 2.234003782272339\n",
      "220000 / 400000 ----> 1.8830136060714722\n",
      "230000 / 400000 ----> 1.885284662246704\n",
      "240000 / 400000 ----> 2.418875217437744\n",
      "250000 / 400000 ----> 1.9017530679702759\n",
      "260000 / 400000 ----> 1.954917073249817\n",
      "270000 / 400000 ----> 1.9070568084716797\n",
      "280000 / 400000 ----> 2.2308363914489746\n",
      "290000 / 400000 ----> 1.820883870124817\n",
      "300000 / 400000 ----> 1.9521889686584473\n",
      "310000 / 400000 ----> 2.1196377277374268\n",
      "320000 / 400000 ----> 1.9468486309051514\n",
      "330000 / 400000 ----> 1.8953505754470825\n",
      "340000 / 400000 ----> 2.056936502456665\n",
      "350000 / 400000 ----> 2.1928536891937256\n",
      "360000 / 400000 ----> 2.251070499420166\n",
      "370000 / 400000 ----> 1.8329497575759888\n",
      "380000 / 400000 ----> 2.0844380855560303\n",
      "390000 / 400000 ----> 2.0453288555145264\n",
      "400000 / 400000 ----> 1.7279624938964844\n"
     ]
    },
    {
     "data": {
      "image/png": "[encoded data removed]",
      "text/plain": [
       "<Figure size 640x480 with 1 Axes>"
      ]
     },
     "metadata": {},
     "output_type": "display_data"
    }
   ],
   "source": [
    "'''' Build model '''\n",
    "features = 10\n",
    "neurons = 200\n",
    "model = build_model(block_size, features, neurons)\n",
    "\n",
    "''' Train model '''\n",
    "batch_size = 32\n",
    "epochs = 400000\n",
    "step_size = 0.01\n",
    "model, losses, passes = train_model(model, x_train, y_train, step_size, batch_size, epochs)\n"
   ]
  },
  {
   "cell_type": "code",
   "execution_count": 596,
   "metadata": {},
   "outputs": [
    {
     "data": {
      "text/plain": [
       "tensor(3.2958)"
      ]
     },
     "execution_count": 596,
     "metadata": {},
     "output_type": "execute_result"
    }
   ],
   "source": [
    "#Expected loss:\n",
    "-torch.tensor(1/27.0).log()"
   ]
  },
  {
   "cell_type": "markdown",
   "metadata": {},
   "source": [
    "### Loss on test set:"
   ]
  },
  {
   "cell_type": "code",
   "execution_count": 597,
   "metadata": {},
   "outputs": [
    {
     "data": {
      "text/plain": [
       "2.0646114349365234"
      ]
     },
     "execution_count": 597,
     "metadata": {},
     "output_type": "execute_result"
    }
   ],
   "source": [
    "C, W1, b1, W2, b2 = model[0], model[1], model[2], model[3], model[4]\n",
    "# Embedding\n",
    "emb = C[x_test]\n",
    "#logits\n",
    "h = torch.tanh(emb.view(-1, W1.shape[0]) @ W1 + b1)\n",
    "logits = h @ W2 + b2\n",
    "#Loss\n",
    "loss = F.cross_entropy(logits, y_test)\n",
    "loss.item()"
   ]
  },
  {
   "cell_type": "markdown",
   "metadata": {},
   "source": [
    "### Sampling from the model:"
   ]
  },
  {
   "cell_type": "code",
   "execution_count": 598,
   "metadata": {},
   "outputs": [
    {
     "name": "stdout",
     "output_type": "stream",
     "text": [
      "nox.\n",
      "zoha.\n",
      "kyavik.\n",
      "danni.\n",
      "nelsiya.\n",
      "zalier.\n",
      "rarren.\n",
      "amir.\n",
      "chored.\n",
      "inrrein.\n",
      "tafik.\n",
      "blekshidel.\n",
      "lawin.\n",
      "jancay.\n",
      "ayrya.\n",
      "huntli.\n",
      "johntraellea.\n",
      "podis.\n",
      "kayleef.\n",
      "gavin.\n"
     ]
    }
   ],
   "source": [
    "for _ in range(20): # sample 20 words\n",
    "\n",
    "    out = []\n",
    "    context = [0] * block_size # inputs\n",
    "    while True:\n",
    "        # Forward pass:\n",
    "        emb = C[torch.tensor([context])]\n",
    "        h = torch.tanh(emb.view(1,-1) @ W1 + b1)\n",
    "        logits = h @ W2 + b2\n",
    "        probs = F.softmax(logits, dim=1)\n",
    "        # Sample from probability distribution\n",
    "        ix = torch.multinomial(probs, num_samples=1).item()\n",
    "\n",
    "        context = context[1:] + [ix]\n",
    "        out.append(ix)\n",
    "\n",
    "        if ix == 0:\n",
    "            break\n",
    "\n",
    "    print(''.join(itos[i] for i in out))"
   ]
  },
  {
   "cell_type": "markdown",
   "metadata": {},
   "source": [
    "# First attempt at model"
   ]
  },
  {
   "cell_type": "code",
   "execution_count": null,
   "metadata": {},
   "outputs": [],
   "source": [
    "g = torch.Generator().manual_seed(2147483647) # for determistic results\n",
    "\n",
    "''' Look up table C '''\n",
    "C = torch.randn((27, 2), generator=g)\n",
    "\n",
    "''' Weights and biases '''\n",
    "W1 = torch.randn((6, 100), generator=g) # for 3 characters, 2 features per character, 100 neurons\n",
    "b1 = torch.randn(100, generator=g) # for 100 neurons\n",
    "\n",
    "W2 = torch.randn((100, 27), generator=g) #100 inputs, 27 possible character predictions\n",
    "b2 = torch.randn(27, generator=g) # 27 possible character predictions\n",
    "\n",
    "''' Parameters '''\n",
    "parameters = [C, W1, b1, W2, b2]"
   ]
  },
  {
   "cell_type": "code",
   "execution_count": null,
   "metadata": {},
   "outputs": [
    {
     "name": "stdout",
     "output_type": "stream",
     "text": [
      "Number of parameters: 3481\n"
     ]
    }
   ],
   "source": [
    "print('Number of parameters:', sum(p.nelement() for p in parameters))"
   ]
  },
  {
   "cell_type": "markdown",
   "metadata": {},
   "source": [
    "## Training the model:"
   ]
  },
  {
   "cell_type": "code",
   "execution_count": 329,
   "metadata": {},
   "outputs": [],
   "source": [
    "''' Telling pytorch that all parameters require a gradient'''\n",
    "for p in parameters:\n",
    "    p.requires_grad = True"
   ]
  },
  {
   "cell_type": "code",
   "execution_count": 304,
   "metadata": {},
   "outputs": [],
   "source": [
    "''' keeping track of loss in order to plot it later'''\n",
    "losses = []\n",
    "passes = []"
   ]
  },
  {
   "cell_type": "markdown",
   "metadata": {},
   "source": [
    "### Gradient descent"
   ]
  },
  {
   "cell_type": "code",
   "execution_count": 305,
   "metadata": {},
   "outputs": [],
   "source": [
    "for i in range(1000):\n",
    "\n",
    "    ''' Contructing a minibatch '''\n",
    "    ix = torch.randint(0, X.shape[0], (32,))\n",
    "\n",
    "    ''' Forward Pass: '''\n",
    "    # Embedding\n",
    "    emb = C[X[ix]]\n",
    "    #logits\n",
    "    h = torch.tanh(emb.view(-1, 6) @ W1 + b1)\n",
    "    logits = h @ W2 + b2\n",
    "    #Loss\n",
    "    loss = F.cross_entropy(logits, Y[ix])\n",
    "\n",
    "    ''' Backward Pass: '''\n",
    "    # Reinitialize gradients\n",
    "    for p in parameters:\n",
    "        p.grad = None\n",
    "    # Calculate the new gradients\n",
    "    loss.backward()\n",
    "    # Slightly adjust parameters against gradient direction\n",
    "    for p in parameters:\n",
    "        p.data -= 0.1 * p.grad\n",
    "            \n",
    "    losses.append(loss.item())\n",
    "    passes.append(i)\n",
    "\n",
    "''' Getting final lost by doing a final forward pass '''\n",
    "# Embedding\n",
    "emb = C[X[ix]]\n",
    "#logits\n",
    "h = torch.tanh(emb.view(-1, 6) @ W1 + b1)\n",
    "logits = h @ W2 + b2\n",
    "#Loss\n",
    "loss = F.cross_entropy(logits, Y[ix])\n",
    "losses.append(loss.item())\n",
    "passes.append(passes[-1]+1)"
   ]
  },
  {
   "cell_type": "markdown",
   "metadata": {},
   "source": [
    "### Plotting the loss"
   ]
  },
  {
   "cell_type": "code",
   "execution_count": 308,
   "metadata": {},
   "outputs": [
    {
     "name": "stdout",
     "output_type": "stream",
     "text": [
      "Final loss:  2.5467405319213867\n"
     ]
    },
    {
     "data": {
      "image/png": "[encoded data removed]",
      "text/plain": [
       "<Figure size 640x480 with 1 Axes>"
      ]
     },
     "metadata": {},
     "output_type": "display_data"
    }
   ],
   "source": [
    "plt.plot(passes, losses)\n",
    "print('Final loss: ', losses[-1])"
   ]
  },
  {
   "cell_type": "markdown",
   "metadata": {},
   "source": [
    "## Finding optimal gradient step size\n",
    "We are going to find the loss after using multiple difference learning rates and then plot the loss as a function of learning rate to find the optimal learning rate ot use"
   ]
  },
  {
   "cell_type": "code",
   "execution_count": 330,
   "metadata": {},
   "outputs": [],
   "source": [
    "lre = torch.linspace(-3, 0, 1000)\n",
    "lrs = 10** lre\n",
    "\n",
    "lrates = []\n",
    "lossesTest = []\n",
    "\n",
    "for i in range(1000):\n",
    "    ''' Contructing a minibatch '''\n",
    "    ix = torch.randint(0, X.shape[0], (32,))\n",
    "\n",
    "    ''' Forward Pass: '''\n",
    "    # Embedding\n",
    "    emb = C[X[ix]]\n",
    "    #logits\n",
    "    h = torch.tanh(emb.view(-1, 6) @ W1 + b1)\n",
    "    logits = h @ W2 + b2\n",
    "    #Loss\n",
    "    loss = F.cross_entropy(logits, Y[ix])\n",
    "\n",
    "    ''' Backward Pass: '''\n",
    "    # Reinitialize gradients\n",
    "    for p in parameters:\n",
    "        p.grad = None\n",
    "    # Calculate the new gradients\n",
    "    loss.backward()\n",
    "    # Slightly adjust parameters against gradient direction\n",
    "    lr = lrs[i]\n",
    "    for p in parameters:\n",
    "        p.data -= lr * p.grad\n",
    "            \n",
    "    lossesTest.append(loss.item())\n",
    "    lrates.append(lre[i])\n",
    "\n",
    "''' Getting final lost by doing a final forward pass '''\n",
    "# Embedding\n",
    "emb = C[X[ix]]\n",
    "#logits\n",
    "h = torch.tanh(emb.view(-1, 6) @ W1 + b1)\n",
    "logits = h @ W2 + b2\n",
    "#Loss\n",
    "loss = F.cross_entropy(logits, Y[ix])\n",
    "lossesTest.append(loss.item())\n",
    "lrates.append(lre[-1])\n"
   ]
  },
  {
   "cell_type": "markdown",
   "metadata": {},
   "source": [
    "### Plotting the loss as a function of the learning rates exponent:"
   ]
  },
  {
   "cell_type": "code",
   "execution_count": 332,
   "metadata": {},
   "outputs": [
    {
     "data": {
      "text/plain": [
       "[<matplotlib.lines.Line2D at 0x1685c9b10>]"
      ]
     },
     "execution_count": 332,
     "metadata": {},
     "output_type": "execute_result"
    },
    {
     "data": {
      "image/png": "[encoded data removed]",
      "text/plain": [
       "<Figure size 640x480 with 1 Axes>"
      ]
     },
     "metadata": {},
     "output_type": "display_data"
    }
   ],
   "source": [
    "plt.plot(lrates, lossesTest)"
   ]
  },
  {
   "cell_type": "markdown",
   "metadata": {},
   "source": [
    "So between a good learning rate is between 1**-1.0 and 1**-0.5"
   ]
  },
  {
   "cell_type": "code",
   "execution_count": null,
   "metadata": {},
   "outputs": [],
   "source": []
  }
 ],
 "metadata": {
  "kernelspec": {
   "display_name": "building-makemore",
   "language": "python",
   "name": "python3"
  },
  "language_info": {
   "codemirror_mode": {
    "name": "ipython",
    "version": 3
   },
   "file_extension": ".py",
   "mimetype": "text/x-python",
   "name": "python",
   "nbconvert_exporter": "python",
   "pygments_lexer": "ipython3",
   "version": "3.11.4"
  },
  "orig_nbformat": 4
 },
 "nbformat": 4,
 "nbformat_minor": 2
}
