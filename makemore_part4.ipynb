{
 "cells": [
  {
   "cell_type": "code",
   "execution_count": 1,
   "metadata": {},
   "outputs": [],
   "source": [
    "import torch\n",
    "import torch.nn.functional as F\n",
    "import matplotlib.pyplot as plt\n",
    "import random\n",
    "%matplotlib inline"
   ]
  },
  {
   "cell_type": "markdown",
   "metadata": {},
   "source": [
    "# Setting up the data:"
   ]
  },
  {
   "cell_type": "markdown",
   "metadata": {},
   "source": [
    "### Getting data information:"
   ]
  },
  {
   "cell_type": "code",
   "execution_count": 2,
   "metadata": {},
   "outputs": [
    {
     "name": "stdout",
     "output_type": "stream",
     "text": [
      "First 8 words in file:\n",
      " ['yuheng', 'diondre', 'xavien', 'jori', 'juanluis', 'erandi', 'phia', 'samatha']\n",
      "\n",
      "Total words in file:  32033\n"
     ]
    }
   ],
   "source": [
    "''' Get information about the dataset '''\n",
    "words = open('names.txt', 'r').read().splitlines()\n",
    "\n",
    "random.seed(42)\n",
    "random.shuffle(words)\n",
    "\n",
    "print('First 8 words in file:\\n', words[:8])\n",
    "print('\\nTotal words in file: ', len(words))"
   ]
  },
  {
   "cell_type": "markdown",
   "metadata": {},
   "source": [
    "### Creating useful mappings:"
   ]
  },
  {
   "cell_type": "code",
   "execution_count": 3,
   "metadata": {},
   "outputs": [
    {
     "name": "stdout",
     "output_type": "stream",
     "text": [
      "\n",
      "Mapping string to integer:  {'a': 1, 'b': 2, 'c': 3, 'd': 4, 'e': 5, 'f': 6, 'g': 7, 'h': 8, 'i': 9, 'j': 10, 'k': 11, 'l': 12, 'm': 13, 'n': 14, 'o': 15, 'p': 16, 'q': 17, 'r': 18, 's': 19, 't': 20, 'u': 21, 'v': 22, 'w': 23, 'x': 24, 'y': 25, 'z': 26, '.': 0}\n",
      "Mapping integer to string:  {1: 'a', 2: 'b', 3: 'c', 4: 'd', 5: 'e', 6: 'f', 7: 'g', 8: 'h', 9: 'i', 10: 'j', 11: 'k', 12: 'l', 13: 'm', 14: 'n', 15: 'o', 16: 'p', 17: 'q', 18: 'r', 19: 's', 20: 't', 21: 'u', 22: 'v', 23: 'w', 24: 'x', 25: 'y', 26: 'z', 0: '.'}\n",
      "{1: 'a', 2: 'b', 3: 'c', 4: 'd', 5: 'e', 6: 'f', 7: 'g', 8: 'h', 9: 'i', 10: 'j', 11: 'k', 12: 'l', 13: 'm', 14: 'n', 15: 'o', 16: 'p', 17: 'q', 18: 'r', 19: 's', 20: 't', 21: 'u', 22: 'v', 23: 'w', 24: 'x', 25: 'y', 26: 'z', 0: '.'}\n",
      "27\n"
     ]
    }
   ],
   "source": [
    "''' Create mappings between characters and integers '''\n",
    "chars = sorted(list(set(''.join(words))))\n",
    "stoi = {s:i+1 for i,s in enumerate(chars)}\n",
    "stoi['.'] = 0\n",
    "itos = {i:s for s,i in stoi.items()}\n",
    "\n",
    "print('\\nMapping string to integer: ', stoi)\n",
    "print('Mapping integer to string: ', itos)\n",
    "\n",
    "vocab_size = len(stoi)\n",
    "\n",
    "print(itos)\n",
    "print(vocab_size)\n"
   ]
  },
  {
   "cell_type": "markdown",
   "metadata": {},
   "source": [
    "### Building the dataset:"
   ]
  },
  {
   "cell_type": "code",
   "execution_count": 4,
   "metadata": {},
   "outputs": [],
   "source": [
    "''' Building the dataset '''\n",
    "# Takes in a list of names and an int which determines \n",
    "# how many previous chars are used for the prediction.\n",
    "# Returns the inputs (X) and labels (Y) of the dataset\n",
    "def build_dataset(words, block_size):\n",
    "    X, Y = [], []\n",
    "    for w in words:\n",
    "        #print(w)\n",
    "        context = [0] * block_size\n",
    "        for ch in w + '.':\n",
    "            ix = stoi[ch]\n",
    "            X.append(context)\n",
    "            Y.append(ix)\n",
    "            #print(''.join(itos[i] for i in context), '--->', itos[ix])\n",
    "            context = context[1:] + [ix] # crop and append\n",
    "\n",
    "    X = torch.tensor(X)\n",
    "    Y = torch.tensor(Y)\n",
    "    return X, Y"
   ]
  },
  {
   "cell_type": "markdown",
   "metadata": {},
   "source": [
    "### Creating the training and testing datasets:"
   ]
  },
  {
   "cell_type": "code",
   "execution_count": 41,
   "metadata": {},
   "outputs": [],
   "source": [
    "''' Creating the train and test datasets '''\n",
    "split1 = 0.8 # percentage of the words used to train the model\n",
    "split2 = 0.9 # split1 - split2 = percentage of the words used to validate and test the model\n",
    "words1 = round(split1 * len(words))\n",
    "words2 = round(split2 * len(words))\n",
    "block_size = 8 # amount of characters used for the prediction\n",
    "\n",
    "x_train, y_train = build_dataset(words[:words1], block_size) # 80%\n",
    "x_validate, y_validate = build_dataset(words[words1:words2], block_size) # 10%\n",
    "x_test, y_test = build_dataset(words[words2:], block_size) # 10%"
   ]
  },
  {
   "cell_type": "markdown",
   "metadata": {},
   "source": [
    "### Displaying some of the datasets"
   ]
  },
  {
   "cell_type": "code",
   "execution_count": 42,
   "metadata": {},
   "outputs": [
    {
     "name": "stdout",
     "output_type": "stream",
     "text": [
      "........ --> y\n",
      ".......y --> u\n",
      "......yu --> h\n",
      ".....yuh --> e\n",
      "....yuhe --> n\n",
      "...yuhen --> g\n",
      "..yuheng --> .\n",
      "........ --> d\n",
      ".......d --> i\n",
      "......di --> o\n",
      ".....dio --> n\n",
      "....dion --> d\n",
      "...diond --> r\n",
      "..diondr --> e\n",
      ".diondre --> .\n",
      "........ --> x\n",
      ".......x --> a\n",
      "......xa --> v\n",
      ".....xav --> i\n",
      "....xavi --> e\n"
     ]
    }
   ],
   "source": [
    "for x, y in zip(x_train[:20], y_train[:20]):\n",
    "    print(''.join(itos[ix.item()] for ix in x), '-->', itos[y.item()])"
   ]
  },
  {
   "cell_type": "markdown",
   "metadata": {},
   "source": [
    "# Creating the API:"
   ]
  },
  {
   "cell_type": "code",
   "execution_count": 84,
   "metadata": {},
   "outputs": [],
   "source": [
    "''' Represents a linear layer '''\n",
    "from typing import Any\n",
    "\n",
    "\n",
    "class Linear:\n",
    "\n",
    "    def __init__(self, fan_in, fan_out, bias=True):\n",
    "        self.weight = torch.randn((fan_in, fan_out)) / (fan_in**0.5)\n",
    "        self.bias = torch.zeros(fan_out) if bias else None\n",
    "\n",
    "    def __call__(self, x):\n",
    "        self.out = x @ self.weight\n",
    "        if self.bias is not None:\n",
    "            self.out += self.bias\n",
    "        return self.out\n",
    "    \n",
    "    def parameters(self):\n",
    "        return [self.weight] + ([] if self.bias is None else [self.bias])\n",
    "\n",
    "''' Represents a batch normalization layer '''\n",
    "class BatchNorm1d:\n",
    "\n",
    "    def __init__(self, dim, eps=1e-5, momentum=0.1):\n",
    "        self.eps = eps\n",
    "        self.momentum = momentum\n",
    "        self.training = True\n",
    "        \n",
    "        self.gamma = torch.ones(dim)\n",
    "        self.beta = torch.zeros(dim)\n",
    "\n",
    "        self.running_mean = torch.zeros(dim)\n",
    "        self.running_var = torch.ones(dim)\n",
    "    \n",
    "    def __call__(self, x):\n",
    "        if self.training:\n",
    "            if x.ndim == 2:\n",
    "                dim = 0\n",
    "            elif x.ndim == 3:\n",
    "                dim = (0,1)\n",
    "            xmean = x.mean(dim, keepdim=True)\n",
    "            xvar = x.var(dim, keepdim=True)\n",
    "        else:\n",
    "            xmean = self.running_mean\n",
    "            xvar = self.running_var\n",
    "\n",
    "        xhat = (x - xmean) / torch.sqrt(xvar + self.eps)\n",
    "        self.out = self.gamma * xhat + self.beta\n",
    "\n",
    "        if self.training:\n",
    "            with torch.no_grad():\n",
    "                self.running_mean = (1 - self.momentum) * self.running_mean + self.momentum * xmean\n",
    "                self.running_var = (1 - self.momentum) * self.running_var + self.momentum * xvar\n",
    "        return self.out\n",
    "    \n",
    "    def parameters(self):\n",
    "        return [self.gamma, self.beta]\n",
    "\n",
    "''' Represents the hyperpoblic tangent function '''   \n",
    "class Tanh:\n",
    "    def __call__(self, x):\n",
    "        self.out = torch.tanh(x)\n",
    "        return self.out\n",
    "    def parameters(self):\n",
    "        return []\n",
    "    \n",
    "''' Represents the embedding of the characters '''\n",
    "class Embedding:\n",
    "\n",
    "    def __init__(self, num_embeddings, embedding_dim):\n",
    "        self.weight = torch.randn((num_embeddings, embedding_dim))\n",
    "    \n",
    "    def __call__(self, IX):\n",
    "        self.out = self.weight[IX]\n",
    "        return self.out\n",
    "    \n",
    "    def parameters(self):\n",
    "        return [self.weight]\n",
    "\n",
    "''' A Layer which flattens its input '''\n",
    "class Flatten:\n",
    "\n",
    "    def __init__(self, n):\n",
    "        self.n = n\n",
    "\n",
    "    def __call__(self, x):\n",
    "        B, T, C = x.shape\n",
    "        x = x.view(B, T//self.n, C*self.n)\n",
    "        if x.shape[1] == 1:\n",
    "            x = x.squeeze(1)\n",
    "        self.out = x\n",
    "        return self.out\n",
    "    \n",
    "    def parameters(self):\n",
    "        return []\n",
    "    \n",
    "''' A sequential class to wrap all layers together '''\n",
    "class Sequential:\n",
    "\n",
    "    def __init__(self, layers):\n",
    "        self.layers = layers\n",
    "    \n",
    "    def __call__(self, x):\n",
    "        for layer in self.layers:\n",
    "            x = layer(x)\n",
    "        self.out = x\n",
    "        return self.out\n",
    "    \n",
    "    def parameters(self):\n",
    "        return [p for layer in self.layers for p in layer.parameters()]\n"
   ]
  },
  {
   "cell_type": "markdown",
   "metadata": {},
   "source": [
    "# Initializing the model:"
   ]
  },
  {
   "cell_type": "code",
   "execution_count": 111,
   "metadata": {},
   "outputs": [],
   "source": [
    "torch.manual_seed(42);"
   ]
  },
  {
   "cell_type": "code",
   "execution_count": 116,
   "metadata": {},
   "outputs": [
    {
     "name": "stdout",
     "output_type": "stream",
     "text": [
      "Total parameters:  276009\n"
     ]
    }
   ],
   "source": [
    "features = 10 # dimensionaly of the character feature vectors\n",
    "neurons = 256 # neurons in the hidden layer\n",
    "\n",
    "''' Creating the MLP '''\n",
    "model = Sequential([\n",
    "    Embedding(vocab_size, features),\n",
    "    Flatten(2), Linear(2 * features, neurons, bias=False), BatchNorm1d(neurons), Tanh(),\n",
    "    Flatten(2), Linear(2 * neurons, neurons, bias=False), BatchNorm1d(neurons), Tanh(),\n",
    "    Flatten(2), Linear(2 * neurons, neurons, bias=False), BatchNorm1d(neurons), Tanh(),\n",
    "    Linear(              neurons, vocab_size)\n",
    "])\n",
    "\n",
    "with torch.no_grad():\n",
    "    model.layers[-1].weight *= 0.1 # initialize with a more uniform distribution\n",
    "\n",
    "parameters = model.parameters()\n",
    "print(\"Total parameters: \", sum(p.nelement() for p in parameters)) # print total parameters\n",
    "for p in parameters:\n",
    "    p.requires_grad = True"
   ]
  },
  {
   "cell_type": "code",
   "execution_count": 117,
   "metadata": {},
   "outputs": [
    {
     "name": "stdout",
     "output_type": "stream",
     "text": [
      "torch.Size([4, 8])\n"
     ]
    },
    {
     "data": {
      "text/plain": [
       "tensor([[ 0,  0,  0,  0,  0, 11, 25, 13],\n",
       "        [ 0,  0,  0,  0,  0,  4, 25, 13],\n",
       "        [ 0,  0,  0,  0,  0,  0,  0,  5],\n",
       "        [ 0,  0,  0,  0,  0,  0,  5, 22]])"
      ]
     },
     "execution_count": 117,
     "metadata": {},
     "output_type": "execute_result"
    }
   ],
   "source": [
    "ix = torch.randint(0, x_train.shape[0], (4,))\n",
    "x_batch, y_batch = x_train[ix], y_train[ix]\n",
    "logits = model(x_batch)\n",
    "print(x_batch.shape)\n",
    "x_batch"
   ]
  },
  {
   "cell_type": "code",
   "execution_count": 118,
   "metadata": {},
   "outputs": [
    {
     "name": "stdout",
     "output_type": "stream",
     "text": [
      "Embedding : (4, 8, 10)\n",
      "Flatten : (4, 4, 20)\n",
      "Linear : (4, 4, 256)\n",
      "BatchNorm1d : (4, 4, 256)\n",
      "Tanh : (4, 4, 256)\n",
      "Flatten : (4, 2, 512)\n",
      "Linear : (4, 2, 256)\n",
      "BatchNorm1d : (4, 2, 256)\n",
      "Tanh : (4, 2, 256)\n",
      "Flatten : (4, 512)\n",
      "Linear : (4, 256)\n",
      "BatchNorm1d : (4, 256)\n",
      "Tanh : (4, 256)\n",
      "Linear : (4, 27)\n"
     ]
    }
   ],
   "source": [
    "for layer in model.layers:\n",
    "    print(layer.__class__.__name__, ':', tuple(layer.out.shape))"
   ]
  },
  {
   "cell_type": "markdown",
   "metadata": {},
   "source": [
    "# Training the model:"
   ]
  },
  {
   "cell_type": "code",
   "execution_count": 119,
   "metadata": {},
   "outputs": [
    {
     "name": "stdout",
     "output_type": "stream",
     "text": [
      "1 / 400000 :  3.2807347774505615\n",
      "10000 / 400000 :  2.33318829536438\n",
      "20000 / 400000 :  1.7048826217651367\n",
      "30000 / 400000 :  2.1271584033966064\n",
      "40000 / 400000 :  1.6014444828033447\n",
      "50000 / 400000 :  1.9773842096328735\n",
      "60000 / 400000 :  2.0738158226013184\n",
      "70000 / 400000 :  1.6668070554733276\n",
      "80000 / 400000 :  2.6915624141693115\n",
      "90000 / 400000 :  2.280229091644287\n",
      "100000 / 400000 :  1.6592812538146973\n",
      "110000 / 400000 :  2.0165040493011475\n",
      "120000 / 400000 :  1.457916498184204\n",
      "130000 / 400000 :  1.8114162683486938\n",
      "140000 / 400000 :  2.091214179992676\n",
      "150000 / 400000 :  1.559297800064087\n",
      "160000 / 400000 :  1.9411284923553467\n",
      "170000 / 400000 :  1.7341864109039307\n",
      "180000 / 400000 :  1.9356410503387451\n",
      "190000 / 400000 :  1.5930206775665283\n",
      "200000 / 400000 :  1.6236387491226196\n",
      "210000 / 400000 :  1.6076133251190186\n",
      "220000 / 400000 :  1.9090451002120972\n",
      "230000 / 400000 :  1.4213285446166992\n",
      "240000 / 400000 :  1.779551386833191\n",
      "250000 / 400000 :  2.213765859603882\n",
      "260000 / 400000 :  1.3903858661651611\n",
      "270000 / 400000 :  1.7839868068695068\n",
      "280000 / 400000 :  1.4250551462173462\n",
      "290000 / 400000 :  1.465431809425354\n",
      "300000 / 400000 :  1.497780203819275\n",
      "310000 / 400000 :  1.675308108329773\n",
      "320000 / 400000 :  1.4087377786636353\n",
      "330000 / 400000 :  1.3918135166168213\n",
      "340000 / 400000 :  1.483665108680725\n",
      "350000 / 400000 :  1.662772297859192\n",
      "360000 / 400000 :  2.203458786010742\n",
      "370000 / 400000 :  1.747969388961792\n",
      "380000 / 400000 :  1.846213936805725\n",
      "390000 / 400000 :  1.842179536819458\n",
      "400000 / 400000 :  1.9917799234390259\n"
     ]
    }
   ],
   "source": [
    "epochs = 400000\n",
    "batch_size = 32\n",
    "lossi = []\n",
    "ud = []\n",
    "\n",
    "for i in range(1,epochs+1):\n",
    "\n",
    "    ''' construct minibatch '''\n",
    "    ix = torch.randint(0, x_train.shape[0], (batch_size,))\n",
    "    x_batch, y_batch = x_train[ix], y_train[ix]\n",
    "\n",
    "    ''' forward pass '''\n",
    "    logits = model(x_batch)\n",
    "    loss = F.cross_entropy(logits, y_batch) # loss function\n",
    "\n",
    "    ''' backward pass '''\n",
    "    for p in parameters:\n",
    "        p.grad = None\n",
    "    loss.backward()\n",
    "\n",
    "    lr = 0.1 if i < epochs * 0.66 else 0.01 # defining the learning rate\n",
    "    for p in parameters:\n",
    "        p.data -= lr * p.grad\n",
    "    \n",
    "    ''' tracking information '''\n",
    "    if i == 1: print(i, \"/\", epochs, \": \", loss.item())\n",
    "    if i % 10000 == 0: print(i, \"/\", epochs, \": \", loss.item())\n",
    "    lossi.append(loss.item())\n",
    "    with torch.no_grad():\n",
    "        ud.append([(lr*p.grad.std() / p.data.std()).log10().item() for p in parameters])"
   ]
  },
  {
   "cell_type": "markdown",
   "metadata": {},
   "source": [
    "# The model's loss:"
   ]
  },
  {
   "cell_type": "code",
   "execution_count": 120,
   "metadata": {},
   "outputs": [
    {
     "data": {
      "image/png": "[encoded data removed]",
      "text/plain": [
       "<Figure size 640x480 with 1 Axes>"
      ]
     },
     "metadata": {},
     "output_type": "display_data"
    }
   ],
   "source": [
    "plt.plot(range(len(lossi)),lossi);\n",
    "plt.title(\"Loss vs Epochs\")\n",
    "plt.xlabel(\"Epochs\")\n",
    "plt.ylabel(\"Loss\");"
   ]
  },
  {
   "cell_type": "code",
   "execution_count": 121,
   "metadata": {},
   "outputs": [
    {
     "data": {
      "image/png": "[encoded data removed]",
      "text/plain": [
       "<Figure size 640x480 with 1 Axes>"
      ]
     },
     "metadata": {},
     "output_type": "display_data"
    }
   ],
   "source": [
    "plt.plot(torch.tensor(lossi).view(-1,1000).mean(1));\n",
    "plt.title(\"Average Loss for every 1000 Epochs\")\n",
    "plt.ylabel(\"Average Loss\")\n",
    "plt.xlabel(\"kEpochs\");"
   ]
  },
  {
   "cell_type": "markdown",
   "metadata": {},
   "source": [
    "### Expected loss:"
   ]
  },
  {
   "cell_type": "code",
   "execution_count": 122,
   "metadata": {},
   "outputs": [
    {
     "name": "stdout",
     "output_type": "stream",
     "text": [
      "Expected loss: tensor(3.2958)\n"
     ]
    }
   ],
   "source": [
    "print('Expected loss:', -torch.tensor(1/27.0).log())"
   ]
  },
  {
   "cell_type": "markdown",
   "metadata": {},
   "source": [
    "### Loss on all sets:"
   ]
  },
  {
   "cell_type": "code",
   "execution_count": 123,
   "metadata": {},
   "outputs": [],
   "source": [
    "''' Tell batchnorm layers we're done training '''\n",
    "for layer in model.layers:\n",
    "    layer.training = False"
   ]
  },
  {
   "cell_type": "code",
   "execution_count": 124,
   "metadata": {},
   "outputs": [
    {
     "name": "stdout",
     "output_type": "stream",
     "text": [
      "Treaining set loss: 1.6214276552200317\n",
      "Validation set loss: 2.0478134155273438\n",
      "Test set loss: 2.038895606994629\n"
     ]
    }
   ],
   "source": [
    "''' Get final loss on training set '''\n",
    "logits = model(x_train)\n",
    "loss = F.cross_entropy(logits, y_train) # loss function\n",
    "print(\"Treaining set loss:\", loss.item())\n",
    "\n",
    "\n",
    "''' Get final loss on validation set '''\n",
    "logits = model(x_validate)\n",
    "loss = F.cross_entropy(logits, y_validate) # loss function\n",
    "print(\"Validation set loss:\", loss.item())\n",
    "\n",
    "\n",
    "''' Get final loss on training set '''\n",
    "logits = model(x_test)\n",
    "loss = F.cross_entropy(logits, y_test) # loss function\n",
    "print(\"Test set loss:\", loss.item())"
   ]
  },
  {
   "cell_type": "markdown",
   "metadata": {},
   "source": [
    "# Model predictions:"
   ]
  },
  {
   "cell_type": "code",
   "execution_count": 125,
   "metadata": {},
   "outputs": [
    {
     "name": "stdout",
     "output_type": "stream",
     "text": [
      "alilia.\n",
      "arshiv.\n",
      "joden.\n",
      "azyleigh.\n",
      "sibiha.\n",
      "kadaro.\n",
      "jossiah.\n",
      "rohnell.\n",
      "pakeya.\n",
      "audus.\n",
      "kamri.\n",
      "stellar.\n",
      "kelaina.\n",
      "zadr.\n",
      "stassin.\n",
      "irlando.\n",
      "madde.\n",
      "mercury.\n",
      "darrah.\n",
      "nasiah.\n"
     ]
    }
   ],
   "source": [
    "with torch.no_grad():\n",
    "    for _ in range(20): # sample 20 words\n",
    "\n",
    "        out = []\n",
    "        context = [0] * block_size # inputs\n",
    "        while True:\n",
    "\n",
    "            logits = model(torch.tensor([context]))\n",
    "            probs = F.softmax(logits, dim=1)\n",
    "            # Sample from probability distribution\n",
    "            ix = torch.multinomial(probs, num_samples=1).item()\n",
    "\n",
    "            context = context[1:] + [ix]\n",
    "            out.append(ix)\n",
    "\n",
    "            if ix == 0:\n",
    "                break\n",
    "\n",
    "        print(''.join(itos[i] for i in out))"
   ]
  },
  {
   "cell_type": "code",
   "execution_count": null,
   "metadata": {},
   "outputs": [],
   "source": []
  }
 ],
 "metadata": {
  "kernelspec": {
   "display_name": "building-makemore",
   "language": "python",
   "name": "python3"
  },
  "language_info": {
   "codemirror_mode": {
    "name": "ipython",
    "version": 3
   },
   "file_extension": ".py",
   "mimetype": "text/x-python",
   "name": "python",
   "nbconvert_exporter": "python",
   "pygments_lexer": "ipython3",
   "version": "3.11.4"
  },
  "orig_nbformat": 4
 },
 "nbformat": 4,
 "nbformat_minor": 2
}
